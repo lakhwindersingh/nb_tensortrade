{
 "cells": [
  {
   "cell_type": "code",
   "execution_count": 1,
   "id": "1f055792-426b-432d-a533-f1227d80ee1c",
   "metadata": {},
   "outputs": [
    {
     "name": "stdout",
     "output_type": "stream",
     "text": [
      "Collecting ray==1.2.0.dev0\n",
      "  Downloading http://0.0.0.0:8282/files/projects/nb_tensortrade/ray-1.2.0.dev0-aarch64-cp39/ray-1.2.0.dev0-cp39-cp39-linux_aarch64.whl?_xsrf=2%7C615ae831%7Caf4482fe928e01e45e32d3ce378981a9%7C1657767013 (22.4 MB)\n",
      "\u001b[K     |████████████████████████████████| 22.4 MB 185.2 MB/s eta 0:00:01\n",
      "\u001b[?25hRequirement already satisfied: grpcio>=1.28.1 in /usr/local/lib/python3.9/dist-packages (from ray==1.2.0.dev0) (1.47.0)\n",
      "Requirement already satisfied: pyyaml in /usr/lib/python3/dist-packages (from ray==1.2.0.dev0) (5.3.1)\n",
      "Requirement already satisfied: prometheus-client>=0.7.1 in /usr/local/lib/python3.9/dist-packages (from ray==1.2.0.dev0) (0.14.1)\n",
      "Requirement already satisfied: msgpack<2.0.0,>=1.0.0 in /home/jupyter/.local/lib/python3.9/site-packages (from ray==1.2.0.dev0) (1.0.4)\n",
      "Requirement already satisfied: requests in /usr/local/lib/python3.9/dist-packages (from ray==1.2.0.dev0) (2.26.0)\n",
      "Requirement already satisfied: py-spy>=0.2.0 in /home/jupyter/.local/lib/python3.9/site-packages (from ray==1.2.0.dev0) (0.3.12)\n",
      "Requirement already satisfied: jsonschema in /usr/local/lib/python3.9/dist-packages (from ray==1.2.0.dev0) (4.7.2)\n",
      "Requirement already satisfied: redis>=3.5.0 in /usr/local/lib/python3.9/dist-packages (from ray==1.2.0.dev0) (4.0.2)\n",
      "Requirement already satisfied: aiohttp-cors in /home/jupyter/.local/lib/python3.9/site-packages (from ray==1.2.0.dev0) (0.7.0)\n",
      "Requirement already satisfied: gpustat in /home/jupyter/.local/lib/python3.9/site-packages (from ray==1.2.0.dev0) (0.6.0)\n",
      "Requirement already satisfied: numpy>=1.19.3 in /usr/local/lib/python3.9/dist-packages (from ray==1.2.0.dev0) (1.22.4)\n",
      "Requirement already satisfied: colorful in /home/jupyter/.local/lib/python3.9/site-packages (from ray==1.2.0.dev0) (0.5.4)\n",
      "Requirement already satisfied: protobuf>=3.8.0 in /usr/local/lib/python3.9/dist-packages (from ray==1.2.0.dev0) (3.19.4)\n",
      "Requirement already satisfied: opencensus in /home/jupyter/.local/lib/python3.9/site-packages (from ray==1.2.0.dev0) (0.10.0)\n",
      "Requirement already satisfied: setproctitle in /home/jupyter/.local/lib/python3.9/site-packages (from ray==1.2.0.dev0) (1.2.3)\n",
      "Requirement already satisfied: aiohttp in /usr/local/lib/python3.9/dist-packages (from ray==1.2.0.dev0) (3.8.1)\n",
      "Requirement already satisfied: filelock in /home/jupyter/.local/lib/python3.9/site-packages (from ray==1.2.0.dev0) (3.7.1)\n",
      "Requirement already satisfied: aioredis in /usr/local/lib/python3.9/dist-packages (from ray==1.2.0.dev0) (1.3.0)\n",
      "Requirement already satisfied: colorama in /home/jupyter/.local/lib/python3.9/site-packages (from ray==1.2.0.dev0) (0.4.5)\n",
      "Requirement already satisfied: click>=7.0 in /usr/local/lib/python3.9/dist-packages (from ray==1.2.0.dev0) (8.1.3)\n",
      "Requirement already satisfied: six>=1.5.2 in /usr/lib/python3/dist-packages (from grpcio>=1.28.1->ray==1.2.0.dev0) (1.15.0)\n",
      "Requirement already satisfied: deprecated in /usr/local/lib/python3.9/dist-packages (from redis>=3.5.0->ray==1.2.0.dev0) (1.2.13)\n",
      "Requirement already satisfied: yarl<2.0,>=1.0 in /usr/local/lib/python3.9/dist-packages (from aiohttp->ray==1.2.0.dev0) (1.7.2)\n",
      "Requirement already satisfied: charset-normalizer<3.0,>=2.0 in /usr/local/lib/python3.9/dist-packages (from aiohttp->ray==1.2.0.dev0) (2.0.12)\n",
      "Requirement already satisfied: async-timeout<5.0,>=4.0.0a3 in /usr/local/lib/python3.9/dist-packages (from aiohttp->ray==1.2.0.dev0) (4.0.2)\n",
      "Requirement already satisfied: multidict<7.0,>=4.5 in /usr/local/lib/python3.9/dist-packages (from aiohttp->ray==1.2.0.dev0) (6.0.2)\n",
      "Requirement already satisfied: frozenlist>=1.1.1 in /usr/local/lib/python3.9/dist-packages (from aiohttp->ray==1.2.0.dev0) (1.3.0)\n",
      "Requirement already satisfied: aiosignal>=1.1.2 in /usr/local/lib/python3.9/dist-packages (from aiohttp->ray==1.2.0.dev0) (1.2.0)\n",
      "Requirement already satisfied: attrs>=17.3.0 in /usr/local/lib/python3.9/dist-packages (from aiohttp->ray==1.2.0.dev0) (21.4.0)\n",
      "Requirement already satisfied: idna>=2.0 in /usr/local/lib/python3.9/dist-packages (from yarl<2.0,>=1.0->aiohttp->ray==1.2.0.dev0) (3.3)\n",
      "Requirement already satisfied: hiredis in /usr/local/lib/python3.9/dist-packages (from aioredis->ray==1.2.0.dev0) (2.0.0)\n",
      "Requirement already satisfied: wrapt<2,>=1.10 in /usr/local/lib/python3.9/dist-packages (from deprecated->redis>=3.5.0->ray==1.2.0.dev0) (1.14.1)\n",
      "Requirement already satisfied: nvidia-ml-py3>=7.352.0 in /home/jupyter/.local/lib/python3.9/site-packages (from gpustat->ray==1.2.0.dev0) (7.352.0)\n",
      "Requirement already satisfied: psutil in /usr/local/lib/python3.9/dist-packages (from gpustat->ray==1.2.0.dev0) (5.9.1)\n",
      "Requirement already satisfied: blessings>=1.6 in /home/jupyter/.local/lib/python3.9/site-packages (from gpustat->ray==1.2.0.dev0) (1.7)\n",
      "Requirement already satisfied: pyrsistent!=0.17.0,!=0.17.1,!=0.17.2,>=0.14.0 in /usr/local/lib/python3.9/dist-packages (from jsonschema->ray==1.2.0.dev0) (0.18.1)\n",
      "Requirement already satisfied: google-api-core<3.0.0,>=1.0.0 in /home/jupyter/.local/lib/python3.9/site-packages (from opencensus->ray==1.2.0.dev0) (2.8.2)\n",
      "Requirement already satisfied: opencensus-context>=0.1.2 in /home/jupyter/.local/lib/python3.9/site-packages (from opencensus->ray==1.2.0.dev0) (0.1.2)\n",
      "Requirement already satisfied: googleapis-common-protos<2.0dev,>=1.56.2 in /home/jupyter/.local/lib/python3.9/site-packages (from google-api-core<3.0.0,>=1.0.0->opencensus->ray==1.2.0.dev0) (1.56.4)\n",
      "Requirement already satisfied: google-auth<3.0dev,>=1.25.0 in /usr/local/lib/python3.9/dist-packages (from google-api-core<3.0.0,>=1.0.0->opencensus->ray==1.2.0.dev0) (2.9.1)\n",
      "Requirement already satisfied: rsa<5,>=3.1.4 in /usr/local/lib/python3.9/dist-packages (from google-auth<3.0dev,>=1.25.0->google-api-core<3.0.0,>=1.0.0->opencensus->ray==1.2.0.dev0) (4.9)\n",
      "Requirement already satisfied: pyasn1-modules>=0.2.1 in /usr/local/lib/python3.9/dist-packages (from google-auth<3.0dev,>=1.25.0->google-api-core<3.0.0,>=1.0.0->opencensus->ray==1.2.0.dev0) (0.2.8)\n",
      "Requirement already satisfied: cachetools<6.0,>=2.0.0 in /usr/local/lib/python3.9/dist-packages (from google-auth<3.0dev,>=1.25.0->google-api-core<3.0.0,>=1.0.0->opencensus->ray==1.2.0.dev0) (5.2.0)\n",
      "Requirement already satisfied: pyasn1<0.5.0,>=0.4.6 in /usr/local/lib/python3.9/dist-packages (from pyasn1-modules>=0.2.1->google-auth<3.0dev,>=1.25.0->google-api-core<3.0.0,>=1.0.0->opencensus->ray==1.2.0.dev0) (0.4.8)\n",
      "Requirement already satisfied: urllib3<1.27,>=1.21.1 in /usr/local/lib/python3.9/dist-packages (from requests->ray==1.2.0.dev0) (1.26.10)\n",
      "Requirement already satisfied: certifi>=2017.4.17 in /usr/local/lib/python3.9/dist-packages (from requests->ray==1.2.0.dev0) (2022.6.15)\n",
      "Note: you may need to restart the kernel to use updated packages.\n"
     ]
    }
   ],
   "source": [
    "pip install http://0.0.0.0:8282/files/projects/nb_tensortrade/ray-1.2.0.dev0-aarch64-cp39/ray-1.2.0.dev0-cp39-cp39-linux_aarch64.whl?_xsrf=2%7C615ae831%7Caf4482fe928e01e45e32d3ce378981a9%7C1657767013"
   ]
  },
  {
   "cell_type": "code",
   "execution_count": null,
   "id": "1c3d4e70-5e1c-49bc-ba80-2a7508c0acfe",
   "metadata": {},
   "outputs": [],
   "source": []
  },
  {
   "cell_type": "code",
   "execution_count": 2,
   "id": "549f5c3c-2815-4d4f-8e0e-877c5176608c",
   "metadata": {},
   "outputs": [
    {
     "name": "stdout",
     "output_type": "stream",
     "text": [
      "Collecting py-spy==0.3.3\n",
      "  Downloading http://0.0.0.0:8282/files/projects/nb_tensortrade/ray-1.2.0.dev0-aarch64-cp39/py_spy-0.3.3-cp39-cp39-linux_aarch64.whl?_xsrf=2%7C615ae831%7Caf4482fe928e01e45e32d3ce378981a9%7C1657767013 (2.2 MB)\n",
      "\u001b[K     |████████████████████████████████| 2.2 MB 184.2 MB/s eta 0:00:01\n",
      "\u001b[?25hInstalling collected packages: py-spy\n",
      "  Attempting uninstall: py-spy\n",
      "    Found existing installation: py-spy 0.3.12\n",
      "    Uninstalling py-spy-0.3.12:\n",
      "      Successfully uninstalled py-spy-0.3.12\n",
      "Successfully installed py-spy-0.3.3\n",
      "Note: you may need to restart the kernel to use updated packages.\n"
     ]
    }
   ],
   "source": [
    "pip install http://0.0.0.0:8282/files/projects/nb_tensortrade/ray-1.2.0.dev0-aarch64-cp39/py_spy-0.3.3-cp39-cp39-linux_aarch64.whl?_xsrf=2%7C615ae831%7Caf4482fe928e01e45e32d3ce378981a9%7C1657767013"
   ]
  },
  {
   "cell_type": "code",
   "execution_count": 3,
   "id": "70a63383-dbfa-4ca6-b331-c7288493cf39",
   "metadata": {},
   "outputs": [
    {
     "name": "stdout",
     "output_type": "stream",
     "text": [
      "Collecting pbr\n",
      "  Downloading pbr-5.9.0-py2.py3-none-any.whl (112 kB)\n",
      "\u001b[K     |████████████████████████████████| 112 kB 4.7 MB/s eta 0:00:01\n",
      "\u001b[?25hInstalling collected packages: pbr\n",
      "Successfully installed pbr-5.9.0\n",
      "Note: you may need to restart the kernel to use updated packages.\n"
     ]
    }
   ],
   "source": [
    "pip install pbr"
   ]
  },
  {
   "cell_type": "code",
   "execution_count": 4,
   "id": "69e4bc14-9b2c-4356-8333-1b5529dd7de6",
   "metadata": {},
   "outputs": [
    {
     "name": "stdout",
     "output_type": "stream",
     "text": [
      "Collecting aiohttp==3.7\n",
      "  Downloading aiohttp-3.7.0-cp39-cp39-manylinux2014_aarch64.whl (1.4 MB)\n",
      "\u001b[K     |████████████████████████████████| 1.4 MB 3.3 MB/s eta 0:00:01\n",
      "\u001b[?25hRequirement already satisfied: aioredis==1.3.0 in /usr/local/lib/python3.9/dist-packages (1.3.0)\n",
      "Requirement already satisfied: dm-tree in /usr/local/lib/python3.9/dist-packages (0.1.7)\n",
      "Requirement already satisfied: opencv-python in /usr/local/lib/python3.9/dist-packages (4.6.0.66)\n",
      "Requirement already satisfied: tensorboardX in /usr/local/lib/python3.9/dist-packages (2.5.1)\n",
      "Requirement already satisfied: multidict<7.0,>=4.5 in /usr/local/lib/python3.9/dist-packages (from aiohttp==3.7) (6.0.2)\n",
      "Requirement already satisfied: chardet<4.0,>=2.0 in /usr/local/lib/python3.9/dist-packages (from aiohttp==3.7) (3.0.4)\n",
      "Requirement already satisfied: attrs>=17.3.0 in /usr/local/lib/python3.9/dist-packages (from aiohttp==3.7) (21.4.0)\n",
      "Collecting async-timeout<4.0,>=3.0\n",
      "  Downloading async_timeout-3.0.1-py3-none-any.whl (8.2 kB)\n",
      "Requirement already satisfied: yarl<2.0,>=1.0 in /usr/local/lib/python3.9/dist-packages (from aiohttp==3.7) (1.7.2)\n",
      "Requirement already satisfied: hiredis in /usr/local/lib/python3.9/dist-packages (from aioredis==1.3.0) (2.0.0)\n",
      "Requirement already satisfied: idna>=2.0 in /usr/local/lib/python3.9/dist-packages (from yarl<2.0,>=1.0->aiohttp==3.7) (3.3)\n",
      "Requirement already satisfied: numpy>=1.14.5 in /usr/local/lib/python3.9/dist-packages (from opencv-python) (1.22.4)\n",
      "Requirement already satisfied: protobuf<=3.20.1,>=3.8.0 in /usr/local/lib/python3.9/dist-packages (from tensorboardX) (3.19.4)\n",
      "Installing collected packages: async-timeout, aiohttp\n",
      "\u001b[31mERROR: pip's dependency resolver does not currently take into account all the packages that are installed. This behaviour is the source of the following dependency conflicts.\n",
      "ccxt 1.91.1 requires aiohttp>=3.8; python_version >= \"3.5.2\", but you have aiohttp 3.7.0 which is incompatible.\u001b[0m\n",
      "Successfully installed aiohttp-3.7.0 async-timeout-3.0.1\n",
      "Note: you may need to restart the kernel to use updated packages.\n"
     ]
    }
   ],
   "source": [
    "pip install aiohttp==3.7 aioredis==1.3.0 dm-tree opencv-python tensorboardX"
   ]
  },
  {
   "cell_type": "code",
   "execution_count": 6,
   "id": "a4a1fb03-ad29-487e-9af3-38eef31c6fe2",
   "metadata": {},
   "outputs": [
    {
     "name": "stdout",
     "output_type": "stream",
     "text": [
      "Found existing installation: dataclasses 0.6\n",
      "Uninstalling dataclasses-0.6:\n",
      "\u001b[31mERROR: Exception:\n",
      "Traceback (most recent call last):\n",
      "  File \"/usr/lib/python3.9/shutil.py\", line 806, in move\n",
      "    os.rename(src, real_dst)\n",
      "PermissionError: [Errno 13] Permission denied: '/usr/local/lib/python3.9/dist-packages/__pycache__/dataclasses.cpython-39.pyc' -> '/tmp/pip-uninstall-zngebdqc/dataclasses.cpython-39.pyc'\n",
      "\n",
      "During handling of the above exception, another exception occurred:\n",
      "\n",
      "Traceback (most recent call last):\n",
      "  File \"/usr/lib/python3/dist-packages/pip/_internal/cli/base_command.py\", line 223, in _main\n",
      "    status = self.run(options, args)\n",
      "  File \"/usr/lib/python3/dist-packages/pip/_internal/commands/uninstall.py\", line 89, in run\n",
      "    uninstall_pathset = req.uninstall(\n",
      "  File \"/usr/lib/python3/dist-packages/pip/_internal/req/req_install.py\", line 694, in uninstall\n",
      "    uninstalled_pathset.remove(auto_confirm, verbose)\n",
      "  File \"/usr/lib/python3/dist-packages/pip/_internal/req/req_uninstall.py\", line 403, in remove\n",
      "    moved.stash(path)\n",
      "  File \"/usr/lib/python3/dist-packages/pip/_internal/req/req_uninstall.py\", line 292, in stash\n",
      "    renames(path, new_path)\n",
      "  File \"/usr/lib/python3/dist-packages/pip/_internal/utils/misc.py\", line 355, in renames\n",
      "    shutil.move(old, new)\n",
      "  File \"/usr/lib/python3.9/shutil.py\", line 827, in move\n",
      "    os.unlink(src)\n",
      "PermissionError: [Errno 13] Permission denied: '/usr/local/lib/python3.9/dist-packages/__pycache__/dataclasses.cpython-39.pyc'\u001b[0m\n",
      "Note: you may need to restart the kernel to use updated packages.\n"
     ]
    }
   ],
   "source": [
    "pip uninstall dataclasses -y"
   ]
  },
  {
   "cell_type": "code",
   "execution_count": null,
   "id": "42bc8bd0-fa33-42de-b116-78dbbd25147d",
   "metadata": {},
   "outputs": [],
   "source": []
  }
 ],
 "metadata": {
  "kernelspec": {
   "display_name": "Python 3 (ipykernel)",
   "language": "python",
   "name": "python3"
  },
  "language_info": {
   "codemirror_mode": {
    "name": "ipython",
    "version": 3
   },
   "file_extension": ".py",
   "mimetype": "text/x-python",
   "name": "python",
   "nbconvert_exporter": "python",
   "pygments_lexer": "ipython3",
   "version": "3.9.5"
  }
 },
 "nbformat": 4,
 "nbformat_minor": 5
}
